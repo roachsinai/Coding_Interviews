{
 "cells": [
  {
   "cell_type": "code",
   "execution_count": 5,
   "metadata": {
    "collapsed": false
   },
   "outputs": [
    {
     "name": "stdout",
     "output_type": "stream",
     "text": [
      "The watermark extension is already loaded. To reload it, use:\n",
      "  %reload_ext watermark\n",
      "RoachSinai 2016-09-02\n"
     ]
    }
   ],
   "source": [
    "%load_ext watermark\n",
    "%watermark -a 'RoachSinai' -d"
   ]
  },
  {
   "cell_type": "code",
   "execution_count": 8,
   "metadata": {
    "collapsed": false
   },
   "outputs": [
    {
     "name": "stdout",
     "output_type": "stream",
     "text": [
      "14.6984852\n"
     ]
    }
   ],
   "source": [
    "import random\n",
    "\n",
    "def one_attempt():\n",
    "    '''做一次实验，返回最少每个点数出现一次的次数'''\n",
    "    count=0#投骰子的次数\n",
    "    point=[0,0,0,0,0,0]#每一点数出现的次数\n",
    "    flag=6\n",
    "    while flag>0:#一直投骰子\n",
    "        count+=1#投骰子次数+1\n",
    "        result=random.randint(1,6)#骰子投出来的结果\n",
    "        point[result-1]+=1\n",
    "        if point[result-1]==1: #这个点数出现一次\n",
    "            flag-=1\n",
    "    return count\n",
    "\n",
    "def average(times):\n",
    "    '''做times实验，计算平均所用次数'''\n",
    "    i=1;\n",
    "    count=0.0\n",
    "    while i<=times:\n",
    "        count+=one_attempt()\n",
    "        i+=1\n",
    "    return count/times\n",
    "\n",
    "#开始统计\n",
    "print(average(10000000))"
   ]
  },
  {
   "cell_type": "markdown",
   "metadata": {},
   "source": [
    "#### Reference\n",
    "\n",
    "[平均需要抛多少次骰子(六个点随机出现)会至少每个点出现两次？](https://www.zhihu.com/question/27493956/answer/37164222)"
   ]
  },
  {
   "cell_type": "code",
   "execution_count": null,
   "metadata": {
    "collapsed": true
   },
   "outputs": [],
   "source": []
  }
 ],
 "metadata": {
  "anaconda-cloud": {},
  "kernelspec": {
   "display_name": "Python [conda root]",
   "language": "python",
   "name": "conda-root-py"
  },
  "language_info": {
   "codemirror_mode": {
    "name": "ipython",
    "version": 3
   },
   "file_extension": ".py",
   "mimetype": "text/x-python",
   "name": "python",
   "nbconvert_exporter": "python",
   "pygments_lexer": "ipython3",
   "version": "3.5.2"
  }
 },
 "nbformat": 4,
 "nbformat_minor": 1
}
